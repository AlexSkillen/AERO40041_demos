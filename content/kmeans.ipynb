{
 "cells": [
  {
   "cell_type": "markdown",
   "id": "61435d7b-70ec-4415-a27b-4d060e0f18ab",
   "metadata": {},
   "source": [
    "# K-means clustering.\n",
    "\n",
    "The aim of this interactive demo is to show the sensitivity of the K-means clustering algorithm to the initial centroid locations. We start with unlabelled data, which, visually, we can observe and can be classified into three categories. Setting K=3, we proceed to compute the clusters. Adjust the sliders below and see how the clustering evolves. You can run one epoch at a time to see slowly how the algorithm proceeds or run 10 epochs at once."
   ]
  },
  {
   "cell_type": "code",
   "execution_count": 1,
   "id": "1b77a7ab-a8a0-4db6-aacc-bc39ca48c9df",
   "metadata": {},
   "outputs": [],
   "source": [
    "import numpy as np\n",
    "import matplotlib.pyplot as plt\n",
    "import ipywidgets as widgets\n",
    "from IPython.display import Markdown\n",
    "import functools"
   ]
  },
  {
   "cell_type": "code",
   "execution_count": 2,
   "id": "c808c99e-0422-4233-bc24-6e4faf3db7ab",
   "metadata": {},
   "outputs": [],
   "source": [
    "from sklearn import datasets\n",
    "blobs = datasets.make_blobs(n_samples=300, cluster_std=1.5, random_state=12345)\n",
    "X=blobs[0]"
   ]
  },
  {
   "cell_type": "code",
   "execution_count": 10,
   "id": "db7da1c1-e0b7-414d-9254-f2db2143f437",
   "metadata": {},
   "outputs": [],
   "source": [
    "def assign(mu1, mu2, mu3):\n",
    "    Y = np.zeros(len(X))\n",
    "    for i in range(len(X)):\n",
    "        dist1 = (X[i][0] - mu1[0])**2 + (X[i][1] - mu1[1])**2\n",
    "        dist2 = (X[i][0] - mu2[0])**2 + (X[i][1] - mu2[1])**2\n",
    "        dist3 = (X[i][0] - mu3[0])**2 + (X[i][1] - mu3[1])**2\n",
    "\n",
    "        if( dist1 <= dist2 and dist1 <= dist3 ):\n",
    "            Y[i] = 1\n",
    "        elif( dist2 <= dist1 and dist2 <= dist3 ):\n",
    "            Y[i] = 2\n",
    "        else:\n",
    "            Y[i] = 3  \n",
    "    return Y    "
   ]
  },
  {
   "cell_type": "code",
   "execution_count": 15,
   "id": "d41cc81b-79db-49d4-9768-04852a8a1a06",
   "metadata": {},
   "outputs": [],
   "source": [
    "def centroids(Y):\n",
    "    mu1l = np.array([0,0])\n",
    "    mu2l = np.array([0,0])\n",
    "    mu3l = np.array([0,0])\n",
    "\n",
    "    n1=0\n",
    "    n2=0\n",
    "    n3=0\n",
    "    \n",
    "    for i in range(len(Y)):\n",
    "        if(Y[i] == 1 ):\n",
    "            mu1l = mu1l + X[i]\n",
    "            n1 += 1\n",
    "        elif(Y[i] == 2 ):\n",
    "            mu2l = mu2l + X[i]\n",
    "            n2 += 1\n",
    "        else:\n",
    "            mu3l = mu3l + X[i]\n",
    "            n3 += 1\n",
    "\n",
    "    if(n1 != 0 ):\n",
    "        mu1l = mu1l/(n1+1e-10)\n",
    "    else:\n",
    "        mu1l = mu1\n",
    "\n",
    "    if(n2 != 0 ):\n",
    "        mu2l = mu2l/(n2+1e-10)\n",
    "    else:\n",
    "        mu2l = mu2\n",
    "\n",
    "    if(n3 != 0 ):\n",
    "        mu3l = mu3l/(n3+1e-10)\n",
    "    else:\n",
    "        mu3l = mu3\n",
    "        \n",
    "    return mu1l, mu2l, mu3l"
   ]
  },
  {
   "cell_type": "code",
   "execution_count": 12,
   "id": "5ac6fc22-e17c-4829-af17-8f1b92026ea8",
   "metadata": {},
   "outputs": [],
   "source": [
    "colors = np.array([x for x in 'bgrcmykbgrcmykbgrcmykbgrcmyk'])\n",
    "colors = np.hstack([colors] * 20)"
   ]
  },
  {
   "cell_type": "code",
   "execution_count": 16,
   "id": "e8dfb940-ecdc-4b59-808b-9723424caf9b",
   "metadata": {},
   "outputs": [
    {
     "data": {
      "application/vnd.jupyter.widget-view+json": {
       "model_id": "7409efaedb6d46a2bd4395a828997d52",
       "version_major": 2,
       "version_minor": 0
      },
      "text/plain": [
       "HBox(children=(VBox(children=(FloatSlider(value=2.0, continuous_update=False, description='Initial $\\\\mu_1 x$:…"
      ]
     },
     "metadata": {},
     "output_type": "display_data"
    },
    {
     "data": {
      "application/vnd.jupyter.widget-view+json": {
       "model_id": "72b0d881d74d4e61a78c80aa8d7298d7",
       "version_major": 2,
       "version_minor": 0
      },
      "text/plain": [
       "Button(description='1 epoch', style=ButtonStyle())"
      ]
     },
     "metadata": {},
     "output_type": "display_data"
    },
    {
     "data": {
      "application/vnd.jupyter.widget-view+json": {
       "model_id": "257fa23a1bea4548a17d9727eba47f89",
       "version_major": 2,
       "version_minor": 0
      },
      "text/plain": [
       "Button(description='10 epochs', style=ButtonStyle())"
      ]
     },
     "metadata": {},
     "output_type": "display_data"
    },
    {
     "data": {
      "application/vnd.jupyter.widget-view+json": {
       "model_id": "cfbc46647f8046c293c6aca3092ffa6d",
       "version_major": 2,
       "version_minor": 0
      },
      "text/plain": [
       "Output()"
      ]
     },
     "metadata": {},
     "output_type": "display_data"
    }
   ],
   "source": [
    "try:\n",
    "    plt.style.use('seaborn')\n",
    "except:\n",
    "    pass\n",
    "\n",
    "\n",
    "initial_mu1_x = widgets.FloatSlider(2, min=-10, max=10.0, description=r'Initial $\\mu_1 x$:', continuous_update = False)\n",
    "initial_mu2_x = widgets.FloatSlider(3, min=-10, max=10.0, description=r'Initial $\\mu_2 x$:', continuous_update = False)\n",
    "initial_mu3_x = widgets.FloatSlider(-3, min=-10, max=10.0, description=r'Initial $\\mu_3 x$:', continuous_update = False)\n",
    "\n",
    "initial_mu1_y = widgets.FloatSlider(2, min=-10, max=10.0, orientation='vertical', description=r'Initial $\\mu_1 y$:', continuous_update = False)\n",
    "initial_mu2_y = widgets.FloatSlider(3, min=-10, max=10.0, orientation='vertical', description=r'Initial $\\mu_2 y$:', continuous_update = False)\n",
    "initial_mu3_y = widgets.FloatSlider(-3, min=-10, max=10.0, orientation='vertical', description=r'Initial $\\mu_3 y$:', continuous_update = False)\n",
    "\n",
    "left_box = widgets.VBox([initial_mu1_x, initial_mu2_x, initial_mu3_x ])\n",
    "right_box = widgets.HBox([initial_mu1_y, initial_mu2_y, initial_mu3_y])\n",
    "sliders = widgets.HBox([left_box, right_box])\n",
    "\n",
    "sub1 = widgets.Button(description='1 epoch')\n",
    "sub10 = widgets.Button(description='10 epochs')\n",
    "out = widgets.Output()\n",
    "\n",
    "#display(initial_mu1_x, initial_mu2_x, initial_mu3_x)\n",
    "#display(initial_mu1_y, initial_mu2_y, initial_mu3_y)\n",
    "display(sliders)\n",
    "display(sub1, sub10, out)\n",
    "\n",
    "Y = np.zeros(len(X), dtype=int)\n",
    "\n",
    "mu1 = np.array([initial_mu1_x.value, initial_mu1_y.value])\n",
    "mu2 = np.array([initial_mu2_x.value, initial_mu2_y.value])\n",
    "mu3 = np.array([initial_mu3_x.value, initial_mu3_y.value])\n",
    "\n",
    "def train(epochs):\n",
    "    out.clear_output(wait=True)\n",
    "    with out:\n",
    "        global mu1, mu2, mu3\n",
    "        for _ in range(int(epochs)):\n",
    "            Y = assign(mu1, mu2, mu3)\n",
    "            mu1, mu2, mu3 = centroids(Y)\n",
    "        plt.scatter(X[:,0], X[:,1], color=colors[Y.astype(int)])\n",
    "\n",
    "        plt.scatter(mu1[0], mu1[1], edgecolor = 'k', color=colors[1], s = 200, marker='X')\n",
    "        plt.scatter(mu2[0], mu2[1], edgecolor = 'k', color=colors[2], s = 200, marker='X')\n",
    "        plt.scatter(mu3[0], mu3[1], edgecolor = 'k', color=colors[3], s = 200, marker='X')\n",
    "        plt.xlabel(r'$x_1$')\n",
    "        plt.ylabel(r'$x_2$')\n",
    "            \n",
    "        plt.show()\n",
    "\n",
    "\n",
    "\n",
    "def reset_Y(b=None):\n",
    "    out.clear_output(wait=True)\n",
    "    with out:\n",
    "        global mu1, mu2, mu3\n",
    "        mu1 = np.array([initial_mu1_x.value, initial_mu1_y.value])\n",
    "        mu2 = np.array([initial_mu2_x.value, initial_mu2_y.value])\n",
    "        mu3 = np.array([initial_mu3_x.value, initial_mu3_y.value])\n",
    "        Y = np.zeros(len(X), dtype=int)\n",
    "        plt.scatter(X[:,0], X[:,1], color=colors[Y.astype(int)])\n",
    "        plt.scatter(mu1[0], mu1[1], edgecolor = 'k', color=colors[1], s = 200, marker='X')\n",
    "        plt.scatter(mu2[0], mu2[1], edgecolor = 'k', color=colors[2], s = 200, marker='X')\n",
    "        plt.scatter(mu3[0], mu3[1], edgecolor = 'k', color=colors[3], s = 200, marker='X')\n",
    "        plt.xlabel(r'$x_1$')\n",
    "        plt.ylabel(r'$x_2$')\n",
    "        \n",
    "        plt.show()\n",
    "\n",
    "def train1(b):\n",
    "    train(1)\n",
    "\n",
    "def train10(b):\n",
    "    train(10)\n",
    "\n",
    "reset_Y()\n",
    "\n",
    "initial_mu1_x.observe(reset_Y)\n",
    "initial_mu2_x.observe(reset_Y)\n",
    "initial_mu3_x.observe(reset_Y)\n",
    "initial_mu1_y.observe(reset_Y)\n",
    "initial_mu2_y.observe(reset_Y)\n",
    "initial_mu3_y.observe(reset_Y)\n",
    "sub1.on_click(train1)\n",
    "sub10.on_click(train10)"
   ]
  }
 ],
 "metadata": {
  "kernelspec": {
   "display_name": "Python 3 (ipykernel)",
   "language": "python",
   "name": "python3"
  },
  "language_info": {
   "codemirror_mode": {
    "name": "ipython",
    "version": 3
   },
   "file_extension": ".py",
   "mimetype": "text/x-python",
   "name": "python",
   "nbconvert_exporter": "python",
   "pygments_lexer": "ipython3",
   "version": "3.11.4"
  }
 },
 "nbformat": 4,
 "nbformat_minor": 5
}
