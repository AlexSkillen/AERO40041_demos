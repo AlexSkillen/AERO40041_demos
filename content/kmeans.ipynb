{
 "cells": [
  {
   "cell_type": "markdown",
   "id": "61435d7b-70ec-4415-a27b-4d060e0f18ab",
   "metadata": {},
   "source": [
    "# K-means clustering.\n",
    "\n",
    "The aim of this interactive demo is to show the sensitivity of the K-means clustering algorithm to the initial centroid locations. We start with unlabelled data with two features. Visually, we observe this can be classified into three categories. Setting K=3, we proceed to compute the clusters. Adjust the sliders below and see how the clustering evolves. You can run one epoch at a time to see slowly how the algorithm proceeds or run 10 epochs at once. The centroids are denoted with the coloured crosses. The colours correspond to the different classes. \n",
    "\n",
    "## Things to try. \n",
    "The Algorithm is relatively robust to broad ranges of initial conditions (for this particular dataset at least). But what happens if you set the initial centroids all at (or close to) -10, -10? Have a think why this is, and what you could do to prevent it."
   ]
  },
  {
   "cell_type": "code",
   "execution_count": 1,
   "id": "1b77a7ab-a8a0-4db6-aacc-bc39ca48c9df",
   "metadata": {},
   "outputs": [],
   "source": [
    "import numpy as np\n",
    "import matplotlib.pyplot as plt\n",
    "import ipywidgets as widgets\n",
    "from IPython.display import Markdown\n",
    "import functools"
   ]
  },
  {
   "cell_type": "code",
   "execution_count": 2,
   "id": "c808c99e-0422-4233-bc24-6e4faf3db7ab",
   "metadata": {},
   "outputs": [],
   "source": [
    "from sklearn import datasets\n",
    "blobs = datasets.make_blobs(n_samples=300, cluster_std=1.5, random_state=12345)\n",
    "X=blobs[0]"
   ]
  },
  {
   "cell_type": "code",
   "execution_count": 3,
   "id": "db7da1c1-e0b7-414d-9254-f2db2143f437",
   "metadata": {},
   "outputs": [],
   "source": [
    "def assign(mu1, mu2, mu3, X):\n",
    "    Y = np.zeros(len(X))\n",
    "    for i in range(len(X)):\n",
    "        dist1 = (X[i][0] - mu1[0])**2 + (X[i][1] - mu1[1])**2\n",
    "        dist2 = (X[i][0] - mu2[0])**2 + (X[i][1] - mu2[1])**2\n",
    "        dist3 = (X[i][0] - mu3[0])**2 + (X[i][1] - mu3[1])**2\n",
    "\n",
    "        if( dist1 <= dist2 and dist1 <= dist3 ):\n",
    "            Y[i] = 1\n",
    "        elif( dist2 <= dist1 and dist2 <= dist3 ):\n",
    "            Y[i] = 2\n",
    "        else:\n",
    "            Y[i] = 3  \n",
    "    return Y    "
   ]
  },
  {
   "cell_type": "code",
   "execution_count": 4,
   "id": "d41cc81b-79db-49d4-9768-04852a8a1a06",
   "metadata": {},
   "outputs": [],
   "source": [
    "def centroids(X, Y):\n",
    "    mu1l = np.array([0,0])\n",
    "    mu2l = np.array([0,0])\n",
    "    mu3l = np.array([0,0])\n",
    "\n",
    "    n1=0\n",
    "    n2=0\n",
    "    n3=0\n",
    "    \n",
    "    for i in range(len(Y)):\n",
    "        if(Y[i] == 1 ):\n",
    "            mu1l = mu1l + X[i]\n",
    "            n1 += 1\n",
    "        elif(Y[i] == 2 ):\n",
    "            mu2l = mu2l + X[i]\n",
    "            n2 += 1\n",
    "        else:\n",
    "            mu3l = mu3l + X[i]\n",
    "            n3 += 1\n",
    "\n",
    "    if(n1 != 0 ):\n",
    "        mu1l = mu1l/(n1+1e-10)\n",
    "    else:\n",
    "        mu1l = mu1\n",
    "\n",
    "    if(n2 != 0 ):\n",
    "        mu2l = mu2l/(n2+1e-10)\n",
    "    else:\n",
    "        mu2l = mu2\n",
    "\n",
    "    if(n3 != 0 ):\n",
    "        mu3l = mu3l/(n3+1e-10)\n",
    "    else:\n",
    "        mu3l = mu3\n",
    "        \n",
    "    return mu1l, mu2l, mu3l"
   ]
  },
  {
   "cell_type": "code",
   "execution_count": 5,
   "id": "5ac6fc22-e17c-4829-af17-8f1b92026ea8",
   "metadata": {},
   "outputs": [],
   "source": [
    "colors = np.array([x for x in 'bgrcmykbgrcmykbgrcmykbgrcmyk'])\n",
    "colors = np.hstack([colors] * 20)"
   ]
  },
  {
   "cell_type": "code",
   "execution_count": 7,
   "id": "e8dfb940-ecdc-4b59-808b-9723424caf9b",
   "metadata": {},
   "outputs": [
    {
     "data": {
      "application/vnd.jupyter.widget-view+json": {
       "model_id": "ad4fff5bb03a4f0cbe64f4ffd62b6844",
       "version_major": 2,
       "version_minor": 0
      },
      "text/plain": [
       "HBox(children=(VBox(children=(FloatSlider(value=2.0, continuous_update=False, description='Initial $\\\\mu_1 x$:…"
      ]
     },
     "metadata": {},
     "output_type": "display_data"
    },
    {
     "data": {
      "application/vnd.jupyter.widget-view+json": {
       "model_id": "6f684ff4c10c429dbd55ae91be62bcf7",
       "version_major": 2,
       "version_minor": 0
      },
      "text/plain": [
       "Button(description='1 epoch', style=ButtonStyle())"
      ]
     },
     "metadata": {},
     "output_type": "display_data"
    },
    {
     "data": {
      "application/vnd.jupyter.widget-view+json": {
       "model_id": "6897f69d7e16431393e86947b84f1150",
       "version_major": 2,
       "version_minor": 0
      },
      "text/plain": [
       "Button(description='10 epochs', style=ButtonStyle())"
      ]
     },
     "metadata": {},
     "output_type": "display_data"
    },
    {
     "data": {
      "application/vnd.jupyter.widget-view+json": {
       "model_id": "106ce36d32964a409bb9095f4e068030",
       "version_major": 2,
       "version_minor": 0
      },
      "text/plain": [
       "Output()"
      ]
     },
     "metadata": {},
     "output_type": "display_data"
    }
   ],
   "source": [
    "try:\n",
    "    plt.style.use('seaborn')\n",
    "except:\n",
    "    pass\n",
    "\n",
    "\n",
    "initial_mu1_x1 = widgets.FloatSlider(2, min=-10, max=10.0, description=r'Initial $\\mu_1 x$:', continuous_update = False)\n",
    "initial_mu2_x1 = widgets.FloatSlider(3, min=-10, max=10.0, description=r'Initial $\\mu_2 x$:', continuous_update = False)\n",
    "initial_mu3_x1 = widgets.FloatSlider(-3, min=-10, max=10.0, description=r'Initial $\\mu_3 x$:', continuous_update = False)\n",
    "\n",
    "initial_mu1_y1 = widgets.FloatSlider(2, min=-10, max=10.0, orientation='vertical', description=r'Initial $\\mu_1 y$:', continuous_update = False)\n",
    "initial_mu2_y1 = widgets.FloatSlider(3, min=-10, max=10.0, orientation='vertical', description=r'Initial $\\mu_2 y$:', continuous_update = False)\n",
    "initial_mu3_y1 = widgets.FloatSlider(-3, min=-10, max=10.0, orientation='vertical', description=r'Initial $\\mu_3 y$:', continuous_update = False)\n",
    "\n",
    "left_box1 = widgets.VBox([initial_mu1_x1, initial_mu2_x1, initial_mu3_x1 ])\n",
    "right_box1 = widgets.HBox([initial_mu1_y1, initial_mu2_y1, initial_mu3_y1])\n",
    "sliders1 = widgets.HBox([left_box1, right_box1])\n",
    "\n",
    "sub1_1 = widgets.Button(description='1 epoch')\n",
    "sub10_1 = widgets.Button(description='10 epochs')\n",
    "out1 = widgets.Output()\n",
    "\n",
    "#display(initial_mu1_x, initial_mu2_x, initial_mu3_x)\n",
    "#display(initial_mu1_y, initial_mu2_y, initial_mu3_y)\n",
    "display(sliders1)\n",
    "display(sub1_1, sub10_1, out1)\n",
    "\n",
    "Y = np.zeros(len(X), dtype=int)\n",
    "\n",
    "mu1_1 = np.array([initial_mu1_x1.value, initial_mu1_y1.value])\n",
    "mu2_1 = np.array([initial_mu2_x1.value, initial_mu2_y1.value])\n",
    "mu3_1 = np.array([initial_mu3_x1.value, initial_mu3_y1.value])\n",
    "\n",
    "def train1(epochs):\n",
    "    out1.clear_output(wait=True)\n",
    "    with out1:\n",
    "        global mu1_1, mu2_1, mu3_1\n",
    "        for _ in range(int(epochs)):\n",
    "            Y = assign(mu1_1, mu2_1, mu3_1, X)\n",
    "            mu1_1, mu2_1, mu3_1 = centroids(X, Y)\n",
    "        plt.scatter(X[:,0], X[:,1], color=colors[Y.astype(int)])\n",
    "\n",
    "        plt.scatter(mu1_1[0], mu1_1[1], edgecolor = 'k', color=colors[1], s = 200, marker='X')\n",
    "        plt.scatter(mu2_1[0], mu2_1[1], edgecolor = 'k', color=colors[2], s = 200, marker='X')\n",
    "        plt.scatter(mu3_1[0], mu3_1[1], edgecolor = 'k', color=colors[3], s = 200, marker='X')\n",
    "        plt.xlabel(r'$x_1$')\n",
    "        plt.ylabel(r'$x_2$')\n",
    "            \n",
    "        plt.show()\n",
    "\n",
    "\n",
    "\n",
    "def reset_Y1(b=None):\n",
    "    out1.clear_output(wait=True)\n",
    "    with out1:\n",
    "        global mu1_1, mu2_1, mu3_1\n",
    "        mu1_1 = np.array([initial_mu1_x1.value, initial_mu1_y1.value])\n",
    "        mu2_1 = np.array([initial_mu2_x1.value, initial_mu2_y1.value])\n",
    "        mu3_1 = np.array([initial_mu3_x1.value, initial_mu3_y1.value])\n",
    "        Y = np.zeros(len(X), dtype=int)\n",
    "        plt.scatter(X[:,0], X[:,1], color=colors[Y.astype(int)])\n",
    "        plt.scatter(mu1_1[0], mu1_1[1], edgecolor = 'k', color=colors[1], s = 200, marker='X')\n",
    "        plt.scatter(mu2_1[0], mu2_1[1], edgecolor = 'k', color=colors[2], s = 200, marker='X')\n",
    "        plt.scatter(mu3_1[0], mu3_1[1], edgecolor = 'k', color=colors[3], s = 200, marker='X')\n",
    "        plt.xlabel(r'$x_1$')\n",
    "        plt.ylabel(r'$x_2$')\n",
    "        \n",
    "        plt.show()\n",
    "\n",
    "def train1_1(b):\n",
    "    train1(1)\n",
    "\n",
    "def train10_1(b):\n",
    "    train1(10)\n",
    "\n",
    "reset_Y1()\n",
    "\n",
    "initial_mu1_x1.observe(reset_Y1)\n",
    "initial_mu2_x1.observe(reset_Y1)\n",
    "initial_mu3_x1.observe(reset_Y1)\n",
    "initial_mu1_y1.observe(reset_Y1)\n",
    "initial_mu2_y1.observe(reset_Y1)\n",
    "initial_mu3_y1.observe(reset_Y1)\n",
    "sub1_1.on_click(train1_1)\n",
    "sub10_1.on_click(train10_1)"
   ]
  },
  {
   "cell_type": "markdown",
   "id": "a19b49cb-60ec-4485-b1fd-4fae3339be88",
   "metadata": {},
   "source": [
    "# Data with outliers. \n",
    "\n",
    "In the next example, we have the same dataset but with the addition of a single outlier. See what happens if one of the initial centroids gets too close to the outlier. "
   ]
  },
  {
   "cell_type": "code",
   "execution_count": 8,
   "id": "323e1149-2ffe-4c6f-9549-0c7a8b3f5576",
   "metadata": {},
   "outputs": [
    {
     "data": {
      "application/vnd.jupyter.widget-view+json": {
       "model_id": "a01aa73158934eaaa5ee5a939a2360bc",
       "version_major": 2,
       "version_minor": 0
      },
      "text/plain": [
       "HBox(children=(VBox(children=(FloatSlider(value=10.0, continuous_update=False, description='Initial $\\\\mu_1 x$…"
      ]
     },
     "metadata": {},
     "output_type": "display_data"
    },
    {
     "data": {
      "application/vnd.jupyter.widget-view+json": {
       "model_id": "7e6f355ef4844f8ab7099e179e8ad5f6",
       "version_major": 2,
       "version_minor": 0
      },
      "text/plain": [
       "Button(description='1 epoch', style=ButtonStyle())"
      ]
     },
     "metadata": {},
     "output_type": "display_data"
    },
    {
     "data": {
      "application/vnd.jupyter.widget-view+json": {
       "model_id": "13daf6b625f647659087facda3c4cfb5",
       "version_major": 2,
       "version_minor": 0
      },
      "text/plain": [
       "Button(description='10 epochs', style=ButtonStyle())"
      ]
     },
     "metadata": {},
     "output_type": "display_data"
    },
    {
     "data": {
      "application/vnd.jupyter.widget-view+json": {
       "model_id": "218e8b1cab524c5b90575aec811acb3b",
       "version_major": 2,
       "version_minor": 0
      },
      "text/plain": [
       "Output()"
      ]
     },
     "metadata": {},
     "output_type": "display_data"
    }
   ],
   "source": [
    "try:\n",
    "    plt.style.use('seaborn')\n",
    "except:\n",
    "    pass\n",
    "\n",
    "\n",
    "X2 = X\n",
    "X2 = np.concatenate((X2, np.array([[13,13]])))\n",
    "\n",
    "initial_mu1_x2 = widgets.FloatSlider(10, min=-10, max=10.0, description=r'Initial $\\mu_1 x$:', continuous_update = False)\n",
    "initial_mu2_x2 = widgets.FloatSlider(3, min=-10, max=10.0, description=r'Initial $\\mu_2 x$:', continuous_update = False)\n",
    "initial_mu3_x2 = widgets.FloatSlider(-3, min=-10, max=10.0, description=r'Initial $\\mu_3 x$:', continuous_update = False)\n",
    "\n",
    "initial_mu1_y2 = widgets.FloatSlider(10, min=-10, max=10.0, orientation='vertical', description=r'Initial $\\mu_1 y$:', continuous_update = False)\n",
    "initial_mu2_y2 = widgets.FloatSlider(3, min=-10, max=10.0, orientation='vertical', description=r'Initial $\\mu_2 y$:', continuous_update = False)\n",
    "initial_mu3_y2 = widgets.FloatSlider(-3, min=-10, max=10.0, orientation='vertical', description=r'Initial $\\mu_3 y$:', continuous_update = False)\n",
    "\n",
    "left_box2 = widgets.VBox([initial_mu1_x2, initial_mu2_x2, initial_mu3_x2 ])\n",
    "right_box2 = widgets.HBox([initial_mu1_y2, initial_mu2_y2, initial_mu3_y2])\n",
    "sliders2 = widgets.HBox([left_box2, right_box2])\n",
    "\n",
    "sub1_2 = widgets.Button(description='1 epoch')\n",
    "sub10_2 = widgets.Button(description='10 epochs')\n",
    "out2 = widgets.Output()\n",
    "\n",
    "#display(initial_mu1_x, initial_mu2_x, initial_mu3_x)\n",
    "#display(initial_mu1_y, initial_mu2_y, initial_mu3_y)\n",
    "display(sliders2)\n",
    "display(sub1_2, sub10_2, out2)\n",
    "\n",
    "Y2 = np.zeros(len(X2), dtype=int)\n",
    "\n",
    "mu1_2 = np.array([initial_mu1_x2.value, initial_mu1_y2.value])\n",
    "mu2_2 = np.array([initial_mu2_x2.value, initial_mu2_y2.value])\n",
    "mu3_2 = np.array([initial_mu3_x2.value, initial_mu3_y2.value])\n",
    "\n",
    "def train2(epochs):\n",
    "    out2.clear_output(wait=True)\n",
    "    with out2:\n",
    "        global mu1_2, mu2_2, mu3_2\n",
    "        for _ in range(int(epochs)):\n",
    "            Y2 = assign(mu1_2, mu2_2, mu3_2, X2)\n",
    "            mu1_2, mu2_2, mu3_2 = centroids(X2, Y2)\n",
    "        plt.scatter(X2[:,0], X2[:,1], color=colors[Y2.astype(int)])\n",
    "\n",
    "        plt.scatter(mu1_2[0], mu1_2[1], edgecolor = 'k', color=colors[1], s = 200, marker='X')\n",
    "        plt.scatter(mu2_2[0], mu2_2[1], edgecolor = 'k', color=colors[2], s = 200, marker='X')\n",
    "        plt.scatter(mu3_2[0], mu3_2[1], edgecolor = 'k', color=colors[3], s = 200, marker='X')\n",
    "        plt.xlabel(r'$x_1$')\n",
    "        plt.ylabel(r'$x_2$')\n",
    "            \n",
    "        plt.show()\n",
    "\n",
    "\n",
    "\n",
    "def reset_Y2(b=None):\n",
    "    out2.clear_output(wait=True)\n",
    "    with out2:\n",
    "        global mu1_2, mu2_2, mu3_2\n",
    "        mu1_2 = np.array([initial_mu1_x2.value, initial_mu1_y2.value])\n",
    "        mu2_2 = np.array([initial_mu2_x2.value, initial_mu2_y2.value])\n",
    "        mu3_2 = np.array([initial_mu3_x2.value, initial_mu3_y2.value])\n",
    "        Y2 = np.zeros(len(X2), dtype=int)\n",
    "        plt.scatter(X2[:,0], X2[:,1], color=colors[Y2.astype(int)])\n",
    "        plt.scatter(mu1_2[0], mu1_2[1], edgecolor = 'k', color=colors[1], s = 200, marker='X')\n",
    "        plt.scatter(mu2_2[0], mu2_2[1], edgecolor = 'k', color=colors[2], s = 200, marker='X')\n",
    "        plt.scatter(mu3_2[0], mu3_2[1], edgecolor = 'k', color=colors[3], s = 200, marker='X')\n",
    "        plt.xlabel(r'$x_1$')\n",
    "        plt.ylabel(r'$x_2$')\n",
    "        \n",
    "        plt.show()\n",
    "\n",
    "def train1_2(b):\n",
    "    train2(1)\n",
    "\n",
    "def train10_2(b):\n",
    "    train2(10)\n",
    "\n",
    "reset_Y2()\n",
    "\n",
    "initial_mu1_x2.observe(reset_Y2)\n",
    "initial_mu2_x2.observe(reset_Y2)\n",
    "initial_mu3_x2.observe(reset_Y2)\n",
    "initial_mu1_y2.observe(reset_Y2)\n",
    "initial_mu2_y2.observe(reset_Y2)\n",
    "initial_mu3_y2.observe(reset_Y2)\n",
    "sub1_2.on_click(train1_2)\n",
    "sub10_2.on_click(train10_2)"
   ]
  },
  {
   "cell_type": "code",
   "execution_count": null,
   "id": "1a0a9ea5-bfb9-4931-9514-e5b13a07a235",
   "metadata": {},
   "outputs": [],
   "source": []
  }
 ],
 "metadata": {
  "kernelspec": {
   "display_name": "Python 3 (ipykernel)",
   "language": "python",
   "name": "python3"
  },
  "language_info": {
   "codemirror_mode": {
    "name": "ipython",
    "version": 3
   },
   "file_extension": ".py",
   "mimetype": "text/x-python",
   "name": "python",
   "nbconvert_exporter": "python",
   "pygments_lexer": "ipython3",
   "version": "3.11.4"
  }
 },
 "nbformat": 4,
 "nbformat_minor": 5
}
